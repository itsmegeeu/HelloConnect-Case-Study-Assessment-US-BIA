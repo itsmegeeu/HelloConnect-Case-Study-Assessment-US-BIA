{
 "cells": [
  {
   "cell_type": "code",
   "execution_count": 1,
   "metadata": {},
   "outputs": [],
   "source": [
    "import sqlite3\n",
    "import pandas as pd\n",
    "from tabulate import tabulate"
   ]
  },
  {
   "cell_type": "markdown",
   "metadata": {},
   "source": [
    "Step 1: Function to read database and list table schemas and record counts"
   ]
  },
  {
   "cell_type": "code",
   "execution_count": 2,
   "metadata": {},
   "outputs": [],
   "source": [
    "def analyze_database(db_path):\n",
    "    \"\"\"\n",
    "    Connects to the SQLite database, retrieves table schemas, and counts records.\n",
    "    :param db_path: Path to the SQLite database file.\n",
    "    :return: None (Prints information in table format).\n",
    "    \"\"\"\n",
    "    try:\n",
    "        conn = sqlite3.connect(db_path)\n",
    "        cursor = conn.cursor()\n",
    "\n",
    "        # Fetch all table names\n",
    "        cursor.execute(\"SELECT name FROM sqlite_master WHERE type='table';\")\n",
    "        tables = cursor.fetchall()\n",
    "\n",
    "        print(\"Tables in the database:\")\n",
    "        table_info = []\n",
    "\n",
    "        for table in tables:\n",
    "            table_name = table[0]\n",
    "\n",
    "            # Get schema\n",
    "            cursor.execute(f\"PRAGMA table_info({table_name});\")\n",
    "            schema = cursor.fetchall()\n",
    "            schema_info = [(column[1], column[2]) for column in schema]\n",
    "\n",
    "            # Count records\n",
    "            cursor.execute(f\"SELECT COUNT(*) FROM {table_name};\")\n",
    "            record_count = cursor.fetchone()[0]\n",
    "\n",
    "            table_info.append([table_name, record_count, schema_info])\n",
    "\n",
    "        # Print table info as a formatted table\n",
    "        headers = [\"Table Name\", \"Record Count\", \"Schema\"]\n",
    "        print(tabulate(table_info, headers=headers, tablefmt=\"grid\"))\n",
    "\n",
    "    except sqlite3.Error as e:\n",
    "        print(f\"Database error: {e}\")\n",
    "    finally:\n",
    "        if conn:\n",
    "            conn.close()"
   ]
  },
  {
   "cell_type": "code",
   "execution_count": 3,
   "metadata": {},
   "outputs": [
    {
     "name": "stdout",
     "output_type": "stream",
     "text": [
      "Tables in the database:\n",
      "+-----------------+----------------+----------------------------------------------------------------------------------------------------------------------------------------------------------------------------------------------------------------------------------------------------------------------------------------------------------------------------------------------------------------------------------------------------------------------------------+\n",
      "| Table Name      |   Record Count | Schema                                                                                                                                                                                                                                                                                                                                                                                                                           |\n",
      "+=================+================+==================================================================================================================================================================================================================================================================================================================================================================================================================================+\n",
      "| albums          |            347 | [('AlbumId', 'INTEGER'), ('Title', 'NVARCHAR(160)'), ('ArtistId', 'INTEGER')]                                                                                                                                                                                                                                                                                                                                                    |\n",
      "+-----------------+----------------+----------------------------------------------------------------------------------------------------------------------------------------------------------------------------------------------------------------------------------------------------------------------------------------------------------------------------------------------------------------------------------------------------------------------------------+\n",
      "| sqlite_sequence |             10 | [('name', ''), ('seq', '')]                                                                                                                                                                                                                                                                                                                                                                                                      |\n",
      "+-----------------+----------------+----------------------------------------------------------------------------------------------------------------------------------------------------------------------------------------------------------------------------------------------------------------------------------------------------------------------------------------------------------------------------------------------------------------------------------+\n",
      "| artists         |            275 | [('ArtistId', 'INTEGER'), ('Name', 'NVARCHAR(120)')]                                                                                                                                                                                                                                                                                                                                                                             |\n",
      "+-----------------+----------------+----------------------------------------------------------------------------------------------------------------------------------------------------------------------------------------------------------------------------------------------------------------------------------------------------------------------------------------------------------------------------------------------------------------------------------+\n",
      "| customers       |             59 | [('CustomerId', 'INTEGER'), ('FirstName', 'NVARCHAR(40)'), ('LastName', 'NVARCHAR(20)'), ('Company', 'NVARCHAR(80)'), ('Address', 'NVARCHAR(70)'), ('City', 'NVARCHAR(40)'), ('State', 'NVARCHAR(40)'), ('Country', 'NVARCHAR(40)'), ('PostalCode', 'NVARCHAR(10)'), ('Phone', 'NVARCHAR(24)'), ('Fax', 'NVARCHAR(24)'), ('Email', 'NVARCHAR(60)'), ('SupportRepId', 'INTEGER')]                                                 |\n",
      "+-----------------+----------------+----------------------------------------------------------------------------------------------------------------------------------------------------------------------------------------------------------------------------------------------------------------------------------------------------------------------------------------------------------------------------------------------------------------------------------+\n",
      "| employees       |              8 | [('EmployeeId', 'INTEGER'), ('LastName', 'NVARCHAR(20)'), ('FirstName', 'NVARCHAR(20)'), ('Title', 'NVARCHAR(30)'), ('ReportsTo', 'INTEGER'), ('BirthDate', 'DATETIME'), ('HireDate', 'DATETIME'), ('Address', 'NVARCHAR(70)'), ('City', 'NVARCHAR(40)'), ('State', 'NVARCHAR(40)'), ('Country', 'NVARCHAR(40)'), ('PostalCode', 'NVARCHAR(10)'), ('Phone', 'NVARCHAR(24)'), ('Fax', 'NVARCHAR(24)'), ('Email', 'NVARCHAR(60)')] |\n",
      "+-----------------+----------------+----------------------------------------------------------------------------------------------------------------------------------------------------------------------------------------------------------------------------------------------------------------------------------------------------------------------------------------------------------------------------------------------------------------------------------+\n",
      "| genres          |             25 | [('GenreId', 'INTEGER'), ('Name', 'NVARCHAR(120)')]                                                                                                                                                                                                                                                                                                                                                                              |\n",
      "+-----------------+----------------+----------------------------------------------------------------------------------------------------------------------------------------------------------------------------------------------------------------------------------------------------------------------------------------------------------------------------------------------------------------------------------------------------------------------------------+\n",
      "| invoices        |            412 | [('InvoiceId', 'INTEGER'), ('CustomerId', 'INTEGER'), ('InvoiceDate', 'DATETIME'), ('BillingAddress', 'NVARCHAR(70)'), ('BillingCity', 'NVARCHAR(40)'), ('BillingState', 'NVARCHAR(40)'), ('BillingCountry', 'NVARCHAR(40)'), ('BillingPostalCode', 'NVARCHAR(10)'), ('Total', 'NUMERIC(10,2)')]                                                                                                                                 |\n",
      "+-----------------+----------------+----------------------------------------------------------------------------------------------------------------------------------------------------------------------------------------------------------------------------------------------------------------------------------------------------------------------------------------------------------------------------------------------------------------------------------+\n",
      "| invoice_items   |           2240 | [('InvoiceLineId', 'INTEGER'), ('InvoiceId', 'INTEGER'), ('TrackId', 'INTEGER'), ('UnitPrice', 'NUMERIC(10,2)'), ('Quantity', 'INTEGER')]                                                                                                                                                                                                                                                                                        |\n",
      "+-----------------+----------------+----------------------------------------------------------------------------------------------------------------------------------------------------------------------------------------------------------------------------------------------------------------------------------------------------------------------------------------------------------------------------------------------------------------------------------+\n",
      "| media_types     |              5 | [('MediaTypeId', 'INTEGER'), ('Name', 'NVARCHAR(120)')]                                                                                                                                                                                                                                                                                                                                                                          |\n",
      "+-----------------+----------------+----------------------------------------------------------------------------------------------------------------------------------------------------------------------------------------------------------------------------------------------------------------------------------------------------------------------------------------------------------------------------------------------------------------------------------+\n",
      "| playlists       |             18 | [('PlaylistId', 'INTEGER'), ('Name', 'NVARCHAR(120)')]                                                                                                                                                                                                                                                                                                                                                                           |\n",
      "+-----------------+----------------+----------------------------------------------------------------------------------------------------------------------------------------------------------------------------------------------------------------------------------------------------------------------------------------------------------------------------------------------------------------------------------------------------------------------------------+\n",
      "| playlist_track  |           8715 | [('PlaylistId', 'INTEGER'), ('TrackId', 'INTEGER')]                                                                                                                                                                                                                                                                                                                                                                              |\n",
      "+-----------------+----------------+----------------------------------------------------------------------------------------------------------------------------------------------------------------------------------------------------------------------------------------------------------------------------------------------------------------------------------------------------------------------------------------------------------------------------------+\n",
      "| tracks          |           3503 | [('TrackId', 'INTEGER'), ('Name', 'NVARCHAR(200)'), ('AlbumId', 'INTEGER'), ('MediaTypeId', 'INTEGER'), ('GenreId', 'INTEGER'), ('Composer', 'NVARCHAR(220)'), ('Milliseconds', 'INTEGER'), ('Bytes', 'INTEGER'), ('UnitPrice', 'NUMERIC(10,2)')]                                                                                                                                                                                |\n",
      "+-----------------+----------------+----------------------------------------------------------------------------------------------------------------------------------------------------------------------------------------------------------------------------------------------------------------------------------------------------------------------------------------------------------------------------------------------------------------------------------+\n",
      "| sqlite_stat1    |             15 | [('tbl', ''), ('idx', ''), ('stat', '')]                                                                                                                                                                                                                                                                                                                                                                                         |\n",
      "+-----------------+----------------+----------------------------------------------------------------------------------------------------------------------------------------------------------------------------------------------------------------------------------------------------------------------------------------------------------------------------------------------------------------------------------------------------------------------------------+\n"
     ]
    }
   ],
   "source": [
    "database_path = 'database.db'\n",
    "analyze_database(database_path)"
   ]
  },
  {
   "cell_type": "markdown",
   "metadata": {},
   "source": [
    "Step 2: Query answers based on ERD and provided questions"
   ]
  },
  {
   "cell_type": "code",
   "execution_count": 4,
   "metadata": {},
   "outputs": [],
   "source": [
    "# Determine schema type based on ERD\n",
    "def question_a():\n",
    "    print(\"\\nQuestion a: Database Schema\")\n",
    "    print(\"Based on the ERD, this database represents a Snowflake schema because it normalizes data across multiple related tables.\")"
   ]
  },
  {
   "cell_type": "code",
   "execution_count": 5,
   "metadata": {},
   "outputs": [
    {
     "name": "stdout",
     "output_type": "stream",
     "text": [
      "\n",
      "Question a: Database Schema\n",
      "Based on the ERD, this database represents a Snowflake schema because it normalizes data across multiple related tables.\n"
     ]
    }
   ],
   "source": [
    "question_a()"
   ]
  },
  {
   "cell_type": "code",
   "execution_count": 6,
   "metadata": {},
   "outputs": [],
   "source": [
    "# Number of different customers\n",
    "def question_b(conn):\n",
    "    print(\"\\nQuestion b: Number of Customers\")\n",
    "    query = \"SELECT COUNT(DISTINCT CustomerId) AS customer_count FROM customers;\"\n",
    "    print(\"SQL Query:\", query)\n",
    "    customer_count = pd.read_sql_query(query, conn)\n",
    "    print(\"Result:\")\n",
    "    print(customer_count)\n",
    "    \n",
    "    # Pandas Equivalent\n",
    "    df_customers = pd.read_sql_query(\"SELECT * FROM customers;\", conn)\n",
    "    print(\"Pandas Equivalent Result:\")\n",
    "    print(df_customers['CustomerId'].nunique())"
   ]
  },
  {
   "cell_type": "code",
   "execution_count": 7,
   "metadata": {},
   "outputs": [],
   "source": [
    "conn = sqlite3.connect(database_path)"
   ]
  },
  {
   "cell_type": "code",
   "execution_count": 8,
   "metadata": {},
   "outputs": [
    {
     "name": "stdout",
     "output_type": "stream",
     "text": [
      "\n",
      "Question b: Number of Customers\n",
      "SQL Query: SELECT COUNT(DISTINCT CustomerId) AS customer_count FROM customers;\n",
      "Result:\n",
      "   customer_count\n",
      "0              59\n",
      "Pandas Equivalent Result:\n",
      "59\n"
     ]
    }
   ],
   "source": [
    "question_b(conn)"
   ]
  },
  {
   "cell_type": "code",
   "execution_count": 9,
   "metadata": {},
   "outputs": [],
   "source": [
    "def question_c(conn):\n",
    "    print(\"\\nQuestion c: Genre with Shortest Average Track Length\")\n",
    "    # SQL Query\n",
    "    query = \"\"\"\n",
    "        SELECT g.Name AS Genre, AVG(t.Milliseconds / 60000.0) AS AvgLengthMinutes\n",
    "        FROM tracks t\n",
    "        JOIN genres g ON t.GenreId = g.GenreId\n",
    "        GROUP BY g.Name\n",
    "        ORDER BY AvgLengthMinutes ASC\n",
    "        LIMIT 1;\n",
    "    \"\"\"\n",
    "    print(\"SQL Query:\")\n",
    "    print(query)\n",
    "    genre_result = pd.read_sql_query(query, conn)\n",
    "    print(\"\\nSQL Result:\")\n",
    "    print(genre_result)\n",
    "\n",
    "    # Pandas Equivalent\n",
    "    print(\"\\nPandas Equivalent:\")\n",
    "    df_tracks = pd.read_sql_query(\"SELECT * FROM tracks;\", conn)\n",
    "    df_genres = pd.read_sql_query(\"SELECT * FROM genres;\", conn)\n",
    "\n",
    "    # Ensure genre name column is correctly identified\n",
    "    print(\"Genres Table Columns:\", df_genres.columns)\n",
    "    genre_name_column = 'Name' if 'Name' in df_genres.columns else df_genres.columns[-1]\n",
    "\n",
    "    df_tracks['LengthMinutes'] = df_tracks['Milliseconds'] / 60000.0\n",
    "    merged = df_tracks.merge(df_genres, left_on='GenreId', right_on='GenreId')\n",
    "    print(\"Merged Table Columns:\", merged.columns)\n",
    "\n",
    "    # Identify correct column in merged DataFrame\n",
    "    genre_column = 'Name_y' if 'Name_y' in merged.columns else 'Name_x'\n",
    "\n",
    "    genre_avg_lengths = merged.groupby(genre_column)['LengthMinutes'].mean()\n",
    "    shortest_genre = genre_avg_lengths.idxmin()\n",
    "    shortest_length = genre_avg_lengths.min()\n",
    "    print(f\"Genre: {shortest_genre}, Avg Length (Minutes): {shortest_length}\")"
   ]
  },
  {
   "cell_type": "code",
   "execution_count": 10,
   "metadata": {},
   "outputs": [
    {
     "name": "stdout",
     "output_type": "stream",
     "text": [
      "\n",
      "Question c: Genre with Shortest Average Track Length\n",
      "SQL Query:\n",
      "\n",
      "        SELECT g.Name AS Genre, AVG(t.Milliseconds / 60000.0) AS AvgLengthMinutes\n",
      "        FROM tracks t\n",
      "        JOIN genres g ON t.GenreId = g.GenreId\n",
      "        GROUP BY g.Name\n",
      "        ORDER BY AvgLengthMinutes ASC\n",
      "        LIMIT 1;\n",
      "    \n",
      "\n",
      "SQL Result:\n",
      "           Genre  AvgLengthMinutes\n",
      "0  Rock And Roll          2.244058\n",
      "\n",
      "Pandas Equivalent:\n",
      "Genres Table Columns: Index(['GenreId', 'Name'], dtype='object')\n",
      "Merged Table Columns: Index(['TrackId', 'Name_x', 'AlbumId', 'MediaTypeId', 'GenreId', 'Composer',\n",
      "       'Milliseconds', 'Bytes', 'UnitPrice', 'LengthMinutes', 'Name_y'],\n",
      "      dtype='object')\n",
      "Genre: Rock And Roll, Avg Length (Minutes): 2.2440583333333333\n"
     ]
    }
   ],
   "source": [
    "question_c(conn)"
   ]
  },
  {
   "cell_type": "code",
   "execution_count": 11,
   "metadata": {},
   "outputs": [],
   "source": [
    "# Artist appearing most in playlists\n",
    "def question_d(conn):\n",
    "    print(\"\\nQuestion d: Artist Most in Playlists\")\n",
    "    # SQL Query\n",
    "    query = \"\"\"\n",
    "        SELECT a.Name AS Artist, COUNT(pl.TrackId) AS Occurrences\n",
    "        FROM playlist_track pl\n",
    "        JOIN tracks t ON pl.TrackId = t.TrackId\n",
    "        JOIN albums al ON t.AlbumId = al.AlbumId\n",
    "        JOIN artists a ON al.ArtistId = a.ArtistId\n",
    "        GROUP BY a.Name\n",
    "        ORDER BY Occurrences DESC\n",
    "        LIMIT 1;\n",
    "    \"\"\"\n",
    "    print(\"SQL Query:\", query)\n",
    "    artist_result = pd.read_sql_query(query, conn)\n",
    "    print(\"SQL Result:\")\n",
    "    print(artist_result)\n",
    "\n",
    "    # Pandas Equivalent\n",
    "    print(\"\\nPandas Equivalent:\")\n",
    "    df_playlist_track = pd.read_sql_query(\"SELECT * FROM playlist_track;\", conn)\n",
    "    df_tracks = pd.read_sql_query(\"SELECT * FROM tracks;\", conn)\n",
    "    df_albums = pd.read_sql_query(\"SELECT * FROM albums;\", conn)\n",
    "    df_artists = pd.read_sql_query(\"SELECT * FROM artists;\", conn)\n",
    "\n",
    "    # Merge data step by step\n",
    "    merged = df_playlist_track.merge(df_tracks, left_on='TrackId', right_on='TrackId')\n",
    "    merged = merged.merge(df_albums, left_on='AlbumId', right_on='AlbumId')\n",
    "    merged = merged.merge(df_artists, left_on='ArtistId', right_on='ArtistId')\n",
    "\n",
    "    # Verify column names\n",
    "    print(\"Merged Table Columns:\", merged.columns)\n",
    "\n",
    "    # Dynamically identify the column for artist name\n",
    "    artist_column = 'Name' if 'Name' in merged.columns else merged.columns[-1]\n",
    "\n",
    "    # Calculate most played artist\n",
    "    artist_most_played = merged[artist_column].value_counts().idxmax()\n",
    "    most_played_count = merged[artist_column].value_counts().max()\n",
    "    print(f\"Artist: {artist_most_played}, Occurrences: {most_played_count}\")"
   ]
  },
  {
   "cell_type": "code",
   "execution_count": 12,
   "metadata": {},
   "outputs": [
    {
     "name": "stdout",
     "output_type": "stream",
     "text": [
      "\n",
      "Question d: Artist Most in Playlists\n",
      "SQL Query: \n",
      "        SELECT a.Name AS Artist, COUNT(pl.TrackId) AS Occurrences\n",
      "        FROM playlist_track pl\n",
      "        JOIN tracks t ON pl.TrackId = t.TrackId\n",
      "        JOIN albums al ON t.AlbumId = al.AlbumId\n",
      "        JOIN artists a ON al.ArtistId = a.ArtistId\n",
      "        GROUP BY a.Name\n",
      "        ORDER BY Occurrences DESC\n",
      "        LIMIT 1;\n",
      "    \n",
      "SQL Result:\n",
      "        Artist  Occurrences\n",
      "0  Iron Maiden          516\n",
      "\n",
      "Pandas Equivalent:\n",
      "Merged Table Columns: Index(['PlaylistId', 'TrackId', 'Name_x', 'AlbumId', 'MediaTypeId', 'GenreId',\n",
      "       'Composer', 'Milliseconds', 'Bytes', 'UnitPrice', 'Title', 'ArtistId',\n",
      "       'Name_y'],\n",
      "      dtype='object')\n",
      "Artist: Iron Maiden, Occurrences: 516\n"
     ]
    }
   ],
   "source": [
    "question_d(conn)"
   ]
  },
  {
   "cell_type": "code",
   "execution_count": 13,
   "metadata": {},
   "outputs": [],
   "source": [
    "# Customers who spent more than $40\n",
    "def question_e(conn):\n",
    "    print(\"\\nQuestion e: Customers Spending > $40\")\n",
    "    query = \"\"\"\n",
    "        SELECT COUNT(*) AS HighSpenders\n",
    "        FROM (\n",
    "            SELECT c.CustomerId, SUM(il.UnitPrice * il.Quantity) AS TotalSpent\n",
    "            FROM customers c\n",
    "            JOIN invoices i ON c.CustomerId = i.CustomerId\n",
    "            JOIN invoice_items il ON i.InvoiceId = il.InvoiceId\n",
    "            GROUP BY c.CustomerId\n",
    "            HAVING TotalSpent > 40\n",
    "        ) subquery;\n",
    "    \"\"\"\n",
    "    print(\"SQL Query:\", query)\n",
    "    spenders_result = pd.read_sql_query(query, conn)\n",
    "    print(\"Result:\")\n",
    "    print(spenders_result)\n",
    "    \n",
    "    # Pandas Equivalent\n",
    "    df_invoices = pd.read_sql_query(\"SELECT * FROM invoices;\", conn)\n",
    "    df_invoice_items = pd.read_sql_query(\"SELECT * FROM invoice_items;\", conn)\n",
    "    merged = df_invoices.merge(df_invoice_items, left_on='InvoiceId', right_on='InvoiceId')\n",
    "\n",
    "    # Calculate total spent per customer\n",
    "    merged['TotalSpent'] = merged['UnitPrice'] * merged['Quantity']\n",
    "    total_spent = merged.groupby('CustomerId')['TotalSpent'].sum()\n",
    "    high_spenders = (total_spent > 40).sum()\n",
    "\n",
    "    # Print results\n",
    "    print(tabulate([[high_spenders]], headers=[\"High Spenders\"], tablefmt=\"grid\"))"
   ]
  },
  {
   "cell_type": "code",
   "execution_count": 14,
   "metadata": {},
   "outputs": [
    {
     "name": "stdout",
     "output_type": "stream",
     "text": [
      "\n",
      "Question e: Customers Spending > $40\n",
      "SQL Query: \n",
      "        SELECT COUNT(*) AS HighSpenders\n",
      "        FROM (\n",
      "            SELECT c.CustomerId, SUM(il.UnitPrice * il.Quantity) AS TotalSpent\n",
      "            FROM customers c\n",
      "            JOIN invoices i ON c.CustomerId = i.CustomerId\n",
      "            JOIN invoice_items il ON i.InvoiceId = il.InvoiceId\n",
      "            GROUP BY c.CustomerId\n",
      "            HAVING TotalSpent > 40\n",
      "        ) subquery;\n",
      "    \n",
      "Result:\n",
      "   HighSpenders\n",
      "0            14\n",
      "+-----------------+\n",
      "|   High Spenders |\n",
      "+=================+\n",
      "|              14 |\n",
      "+-----------------+\n"
     ]
    }
   ],
   "source": [
    "question_e(conn)"
   ]
  },
  {
   "cell_type": "code",
   "execution_count": 15,
   "metadata": {},
   "outputs": [],
   "source": [
    "# Most frequently used key\n",
    "def question_f(conn):\n",
    "    response = \"\"\"\n",
    "    Answer to the Question: \"Which Key did you use the most?\"\n",
    "    \n",
    "    From the queries written:\n",
    "    \n",
    "    - Primary Key Usage:\n",
    "      - CustomerId was heavily used in the customers table for filtering and grouping.\n",
    "      - TrackId was frequently joined across tables (tracks, playlist_track, etc.).\n",
    "    \n",
    "    - Foreign Key Usage:\n",
    "      - Foreign keys like GenreId, AlbumId, ArtistId, and InvoiceId were also commonly used for joining tables.\n",
    "    \n",
    "    Response:\n",
    "    If the key usage refers to the queries: The key used the most in the queries is TrackId.\n",
    "    This key was utilized extensively across multiple tables (tracks, playlist_track, etc.) to join data for generating insights, particularly in determining:\n",
    "    \n",
    "    - The artist appearing most in playlists.\n",
    "    - The genre with the shortest average track length.\n",
    "    \"\"\"\n",
    "    print(response)"
   ]
  },
  {
   "cell_type": "code",
   "execution_count": 16,
   "metadata": {},
   "outputs": [
    {
     "name": "stdout",
     "output_type": "stream",
     "text": [
      "\n",
      "    Answer to the Question: \"Which Key did you use the most?\"\n",
      "    \n",
      "    From the queries written:\n",
      "    \n",
      "    - Primary Key Usage:\n",
      "      - CustomerId was heavily used in the customers table for filtering and grouping.\n",
      "      - TrackId was frequently joined across tables (tracks, playlist_track, etc.).\n",
      "    \n",
      "    - Foreign Key Usage:\n",
      "      - Foreign keys like GenreId, AlbumId, ArtistId, and InvoiceId were also commonly used for joining tables.\n",
      "    \n",
      "    Response:\n",
      "    If the key usage refers to the queries: The key used the most in the queries is TrackId.\n",
      "    This key was utilized extensively across multiple tables (tracks, playlist_track, etc.) to join data for generating insights, particularly in determining:\n",
      "    \n",
      "    - The artist appearing most in playlists.\n",
      "    - The genre with the shortest average track length.\n",
      "    \n"
     ]
    }
   ],
   "source": [
    "question_f(conn)"
   ]
  },
  {
   "cell_type": "code",
   "execution_count": 17,
   "metadata": {},
   "outputs": [],
   "source": [
    "conn.close()"
   ]
  }
 ],
 "metadata": {
  "kernelspec": {
   "display_name": "Python 3",
   "language": "python",
   "name": "python3"
  },
  "language_info": {
   "codemirror_mode": {
    "name": "ipython",
    "version": 3
   },
   "file_extension": ".py",
   "mimetype": "text/x-python",
   "name": "python",
   "nbconvert_exporter": "python",
   "pygments_lexer": "ipython3",
   "version": "3.12.3"
  }
 },
 "nbformat": 4,
 "nbformat_minor": 2
}
